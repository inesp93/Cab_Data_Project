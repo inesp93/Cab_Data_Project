{
 "cells": [
  {
   "cell_type": "code",
   "execution_count": null,
   "metadata": {},
   "outputs": [],
   "source": [
    "import pandas as pd\n",
    "import numpy as np\n",
    "\n",
    "#importing Cab_data\n",
    "data1 = pd.read_csv (r'C:\\Users\\HT-ICT\\Desktop\\New\\Cab_data.csv')   \n",
    "Cab_data = pd.DataFrame(data1, columns= ['Transaction ID','Date of Travel', 'Company', 'City','KM Travelled','Price Charged','Cost of Trip'])\n",
    "print(Cab_data)"
   ]
  },
  {
   "cell_type": "code",
   "execution_count": null,
   "metadata": {},
   "outputs": [],
   "source": [
    "Cab_data_clean = Cab_data.drop_duplicates(subset=['Transaction ID']) #removing duplicates base od Transaction ID"
   ]
  },
  {
   "cell_type": "code",
   "execution_count": null,
   "metadata": {},
   "outputs": [],
   "source": [
    "print(Cab_data_clean)"
   ]
  },
  {
   "cell_type": "code",
   "execution_count": null,
   "metadata": {},
   "outputs": [],
   "source": [
    "Cab_data_final=Cab_data_clean.dropna(axis=0) #removing empty rows"
   ]
  },
  {
   "cell_type": "code",
   "execution_count": null,
   "metadata": {},
   "outputs": [],
   "source": [
    "print(Cab_data_final)"
   ]
  },
  {
   "cell_type": "code",
   "execution_count": null,
   "metadata": {},
   "outputs": [],
   "source": [
    "data2 = pd.read_csv (r'C:\\Users\\HT-ICT\\Desktop\\New\\City.csv')   \n",
    "City = pd.DataFrame(data2, columns= ['City','Population', 'Users'])\n",
    "print(City) #importing City data"
   ]
  },
  {
   "cell_type": "code",
   "execution_count": null,
   "metadata": {},
   "outputs": [],
   "source": [
    "data3 = pd.read_csv (r'C:\\Users\\HT-ICT\\Desktop\\New\\Customer_ID.csv')   \n",
    "Customer = pd.DataFrame(data3, columns= ['Customer ID','Gender', 'Age', 'Income (USD/Month)'])\n",
    "print(Customer) #importing Customer_ID data"
   ]
  },
  {
   "cell_type": "code",
   "execution_count": null,
   "metadata": {},
   "outputs": [],
   "source": [
    "Customer_clean = Customer.drop_duplicates(subset=['Customer ID']) #removing duplicates"
   ]
  },
  {
   "cell_type": "code",
   "execution_count": null,
   "metadata": {},
   "outputs": [],
   "source": [
    "print(Customer_clean)"
   ]
  },
  {
   "cell_type": "code",
   "execution_count": null,
   "metadata": {},
   "outputs": [],
   "source": [
    "Customer_final=Customer_clean.dropna(axis=0) #removing empty rows"
   ]
  },
  {
   "cell_type": "code",
   "execution_count": null,
   "metadata": {},
   "outputs": [],
   "source": [
    "print(Customer_final)"
   ]
  },
  {
   "cell_type": "code",
   "execution_count": null,
   "metadata": {},
   "outputs": [],
   "source": [
    "data4 = pd.read_csv (r'C:\\Users\\HT-ICT\\Desktop\\New\\Transaction_ID.csv')   \n",
    "Transaction = pd.DataFrame(data4, columns= ['Transaction ID','Customer ID', 'Payment_Mode'])\n",
    "print(Transaction) #importing Transaction_ID data"
   ]
  },
  {
   "cell_type": "code",
   "execution_count": null,
   "metadata": {},
   "outputs": [],
   "source": [
    "Transaction_clean = Transaction.drop_duplicates(subset=['Transaction ID']) #removing duplicates"
   ]
  },
  {
   "cell_type": "code",
   "execution_count": null,
   "metadata": {},
   "outputs": [],
   "source": [
    "print(Transaction_clean)"
   ]
  },
  {
   "cell_type": "code",
   "execution_count": null,
   "metadata": {},
   "outputs": [],
   "source": [
    "Transaction_final=Transaction_clean.dropna(axis=0) #removing empty rows"
   ]
  },
  {
   "cell_type": "code",
   "execution_count": null,
   "metadata": {},
   "outputs": [],
   "source": [
    "print(Transaction_final)"
   ]
  },
  {
   "cell_type": "code",
   "execution_count": null,
   "metadata": {},
   "outputs": [],
   "source": [
    "newtable = pd.merge(Cab_data_final, Transaction_final, how='left', on=['Transaction ID'])\n",
    "#Left join of the Transactions_ID on the Cab_Data on Transaction ID"
   ]
  },
  {
   "cell_type": "code",
   "execution_count": null,
   "metadata": {},
   "outputs": [],
   "source": [
    "print(newtable)"
   ]
  },
  {
   "cell_type": "code",
   "execution_count": null,
   "metadata": {},
   "outputs": [],
   "source": [
    "newtable1 = pd.merge(newtable, Customer_final, how='left', on=['Customer ID'])\n",
    "#Left join of the Customer_ID on the newtable on Customer ID"
   ]
  },
  {
   "cell_type": "code",
   "execution_count": null,
   "metadata": {},
   "outputs": [],
   "source": [
    "print(newtable1)"
   ]
  },
  {
   "cell_type": "code",
   "execution_count": null,
   "metadata": {},
   "outputs": [],
   "source": [
    "newtable2 = newtable1.dropna(axis=0) #removing potential empty rows"
   ]
  },
  {
   "cell_type": "code",
   "execution_count": null,
   "metadata": {},
   "outputs": [],
   "source": [
    "print(newtable2)"
   ]
  },
  {
   "cell_type": "code",
   "execution_count": null,
   "metadata": {},
   "outputs": [],
   "source": [
    "newtable2.head(2000)"
   ]
  },
  {
   "cell_type": "code",
   "execution_count": null,
   "metadata": {},
   "outputs": [],
   "source": [
    "newtable2.to_csv('Final cab data.csv', index = False, header=True) #saving as csv data"
   ]
  },
  {
   "cell_type": "code",
   "execution_count": null,
   "metadata": {},
   "outputs": [],
   "source": []
  }
 ],
 "metadata": {
  "kernelspec": {
   "display_name": "Python 3",
   "language": "python",
   "name": "python3"
  },
  "language_info": {
   "codemirror_mode": {
    "name": "ipython",
    "version": 3
   },
   "file_extension": ".py",
   "mimetype": "text/x-python",
   "name": "python",
   "nbconvert_exporter": "python",
   "pygments_lexer": "ipython3",
   "version": "3.8.3"
  }
 },
 "nbformat": 4,
 "nbformat_minor": 4
}
